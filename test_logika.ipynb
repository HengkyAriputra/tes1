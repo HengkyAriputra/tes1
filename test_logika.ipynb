{
  "nbformat": 4,
  "nbformat_minor": 0,
  "metadata": {
    "colab": {
      "name": "test_logika.ipynb",
      "version": "0.3.2",
      "provenance": [],
      "collapsed_sections": [],
      "include_colab_link": true
    },
    "kernelspec": {
      "name": "python3",
      "display_name": "Python 3"
    }
  },
  "cells": [
    {
      "cell_type": "markdown",
      "metadata": {
        "id": "view-in-github",
        "colab_type": "text"
      },
      "source": [
        "<a href=\"https://colab.research.google.com/github/HengkyAriputra/tes1/blob/master/test_logika.ipynb\" target=\"_parent\"><img src=\"https://colab.research.google.com/assets/colab-badge.svg\" alt=\"Open In Colab\"/></a>"
      ]
    },
    {
      "cell_type": "markdown",
      "metadata": {
        "id": "iONLVwgHRW5C",
        "colab_type": "text"
      },
      "source": [
        "# Problem 1"
      ]
    },
    {
      "cell_type": "code",
      "metadata": {
        "id": "Fas4o5myfgpb",
        "colab_type": "code",
        "colab": {
          "base_uri": "https://localhost:8080/",
          "height": 34
        },
        "outputId": "b2ce9247-1fd1-4e6e-ae93-10c012df4572"
      },
      "source": [
        "input = 'without,hello,bag,world'\n",
        "li  = sorted(input.split(','))\n",
        "s = ','\n",
        "print (s.join(li))"
      ],
      "execution_count": 1,
      "outputs": [
        {
          "output_type": "stream",
          "text": [
            "bag,hello,without,world\n"
          ],
          "name": "stdout"
        }
      ]
    },
    {
      "cell_type": "markdown",
      "metadata": {
        "id": "O3FEWHqlRa_k",
        "colab_type": "text"
      },
      "source": [
        "# Problem 2"
      ]
    },
    {
      "cell_type": "code",
      "metadata": {
        "id": "lGcsCemzf4Q1",
        "colab_type": "code",
        "colab": {
          "base_uri": "https://localhost:8080/",
          "height": 34
        },
        "outputId": "d7d41630-6412-4a00-e2a2-817bcc1c6ba3"
      },
      "source": [
        "import math  \n",
        "def calculateDistance(x1,y1,up,down,right,left):\n",
        "  x2 = x1 + right - left\n",
        "  y2 = y1 + up - down\n",
        "  dist = math.sqrt((x2 - x1)^2 + (y2 - y1)^2)\n",
        "  dist = int(dist)\n",
        "  return dist  \n",
        "calculateDistance(0,0,5,3,3,2)"
      ],
      "execution_count": 2,
      "outputs": [
        {
          "output_type": "execute_result",
          "data": {
            "text/plain": [
              "2"
            ]
          },
          "metadata": {
            "tags": []
          },
          "execution_count": 2
        }
      ]
    },
    {
      "cell_type": "markdown",
      "metadata": {
        "id": "eRGwi78IRds_",
        "colab_type": "text"
      },
      "source": [
        "# Problem 3"
      ]
    },
    {
      "cell_type": "code",
      "metadata": {
        "id": "HdJHbRyWkDjE",
        "colab_type": "code",
        "colab": {
          "base_uri": "https://localhost:8080/",
          "height": 102
        },
        "outputId": "6783f143-1bc1-4021-b772-bfd159395406"
      },
      "source": [
        "tuples = [('Tom',19,80),('John',20,90),('Jony',17,91),('Jony',17,93),('Jason',21,85)]\n",
        "sorted(tuples, reverse = False)"
      ],
      "execution_count": 18,
      "outputs": [
        {
          "output_type": "execute_result",
          "data": {
            "text/plain": [
              "[('Jason', 21, 85),\n",
              " ('John', 20, 90),\n",
              " ('Jony', 17, 91),\n",
              " ('Jony', 17, 93),\n",
              " ('Tom', 19, 80)]"
            ]
          },
          "metadata": {
            "tags": []
          },
          "execution_count": 18
        }
      ]
    },
    {
      "cell_type": "code",
      "metadata": {
        "id": "z9z2hPDvkfIS",
        "colab_type": "code",
        "colab": {}
      },
      "source": [
        ""
      ],
      "execution_count": 0,
      "outputs": []
    },
    {
      "cell_type": "markdown",
      "metadata": {
        "id": "zQ17gMOlPUOK",
        "colab_type": "text"
      },
      "source": [
        ""
      ]
    }
  ]
}